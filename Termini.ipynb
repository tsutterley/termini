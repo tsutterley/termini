{
 "cells": [
  {
   "cell_type": "code",
   "execution_count": null,
   "metadata": {
    "tags": []
   },
   "outputs": [],
   "source": [
    "import termini\n",
    "import geopandas as gpd"
   ]
  },
  {
   "cell_type": "code",
   "execution_count": null,
   "metadata": {},
   "outputs": [],
   "source": [
    "# local path for storing data\n",
    "path = termini.utilities.get_data_path('data')\n",
    "# query CMR for data and download to path\n",
    "termini.utilities.download_resources(path)"
   ]
  },
  {
   "cell_type": "code",
   "execution_count": null,
   "metadata": {},
   "outputs": [],
   "source": [
    "# read data into geopandas dataframe\n",
    "# and convert to WGS84 latitude/longitude\n",
    "data = path.joinpath('glacier_termini_v01.0.shp')\n",
    "gdf = gpd.read_file(data).to_crs(epsg=4326)\n",
    "# inspect geodataframe\n",
    "gdf.head()"
   ]
  },
  {
   "cell_type": "code",
   "execution_count": null,
   "metadata": {
    "tags": []
   },
   "outputs": [],
   "source": [
    "# create ipyleaflet map\n",
    "m = termini.Leaflet()\n",
    "gdf.leaflet.GeoData(m.map)\n",
    "m.add(termini.layers.PGC.ArcticDEM)\n",
    "m.map"
   ]
  }
 ],
 "metadata": {
  "interpreter": {
   "hash": "31f2aee4e71d21fbe5cf8b01ff0e069b9275f58929596ceb00d14d90e3e16cd6"
  },
  "kernelspec": {
   "display_name": "Python 3 (ipykernel)",
   "language": "python",
   "name": "python3"
  },
  "language_info": {
   "codemirror_mode": {
    "name": "ipython",
    "version": 3
   },
   "file_extension": ".py",
   "mimetype": "text/x-python",
   "name": "python",
   "nbconvert_exporter": "python",
   "pygments_lexer": "ipython3",
   "version": "3.10.13"
  }
 },
 "nbformat": 4,
 "nbformat_minor": 4
}
